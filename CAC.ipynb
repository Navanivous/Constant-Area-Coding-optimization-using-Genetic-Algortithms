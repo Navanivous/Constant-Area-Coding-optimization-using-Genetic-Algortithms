{
 "cells": [
  {
   "cell_type": "code",
   "execution_count": 38,
   "metadata": {},
   "outputs": [
    {
     "name": "stdout",
     "output_type": "stream",
     "text": [
      "[[  0   0   0   0   0 255 255 255 255 255]\n",
      " [  0   0   0   0   0 255 255 255 255 255]\n",
      " [  0   0   0   0   0 255 255 255 255 255]\n",
      " [  0   0   0   0   0 255 255 255 255 255]\n",
      " [  0   0   0   0   0 255 255 255 255 255]\n",
      " [255 255 255 255 255   0   0 255   0   0]\n",
      " [255 255 255 255 255 255 255 255 255 255]\n",
      " [255 255 255 255 255   0   0   0 255   0]\n",
      " [255 255 255 255 255 255 255 255 255 255]\n",
      " [255 255 255 255 255 255 255 255 255 255]]\n",
      "(10, 10)\n"
     ]
    }
   ],
   "source": [
    "\n",
    "import cv2\n",
    "import numpy as np\n",
    "from matplotlib import pyplot as plt\n",
    "\n",
    "imgo = cv2.imread(\"NewImage-1.png\", cv2.IMREAD_GRAYSCALE)\n",
    "img = cv2.threshold(imgo,128,255,cv2.THRESH_BINARY)[1]\n",
    "print(img)\n",
    "print(img.shape)\n",
    "cv2.namedWindow('img', cv2.WINDOW_NORMAL)\n",
    "cv2.resizeWindow('img', 600, 400)\n",
    "cv2.imshow('img', img)\n",
    "cv2.waitKey(0)\n",
    "cv2.destroyAllWindows()"
   ]
  },
  {
   "cell_type": "code",
   "execution_count": 39,
   "metadata": {},
   "outputs": [],
   "source": [
    "def split_img(img,block_h,block_w):\n",
    "    blocks = []\n",
    "    h , w = img.shape[:2]\n",
    "    if h%block_h!=0:\n",
    "        print(\"invalid block height\")\n",
    "        return \n",
    "    if w%block_w!=0:\n",
    "        print(\"invalid block width\")\n",
    "        return\n",
    "    num_rows = w//block_w\n",
    "    num_cols = h//block_h\n",
    "    for y in range(num_cols):\n",
    "        for x in range(num_rows):\n",
    "                left = x * block_w\n",
    "                upper = y * block_h\n",
    "                right = left + block_w\n",
    "                lower = upper + block_h\n",
    "                block = img[upper:lower, left:right]\n",
    "                blocks.append(block)\n",
    "    return blocks"
   ]
  },
  {
   "cell_type": "code",
   "execution_count": 40,
   "metadata": {},
   "outputs": [],
   "source": [
    "def CAC_encode(img,block_h,block_w):    \n",
    "    blocks = split_img(img, block_w, block_h)\n",
    "    #print(blocks)\n",
    "    print(\"Image size:\",img.size)\n",
    "    codes = ['0','11','10']\n",
    "    code = []\n",
    "    for block in blocks:\n",
    "        if np.all(block == 0):\n",
    "            code.append(codes[0])\n",
    "        elif np.all(block == 255):\n",
    "            code.append(codes[1])\n",
    "        else:\n",
    "            code.append(codes[2])\n",
    "            block = block.tolist()\n",
    "            for blk in block:\n",
    "                for b in blk:\n",
    "                    if b == 255:\n",
    "                        code.append(1)   \n",
    "                    else:\n",
    "                        code.append(b)\n",
    "    code =\"\".join(map(str,code))\n",
    "    print(\"Code length: \", len(code))\n",
    "    \n",
    "    CR = img.size/len(code)\n",
    "    RD = 1 - 1/CR\n",
    "    print(\"Compression Ratio: \" , CR , \" \\nRelative Data Redundancy: \", RD) \n",
    "    return  block_h ,block_w , img.shape[0], img.shape[1],  code , CR , RD"
   ]
  },
  {
   "cell_type": "code",
   "execution_count": 41,
   "metadata": {},
   "outputs": [
    {
     "name": "stdout",
     "output_type": "stream",
     "text": [
      "Image size: 100\n",
      "Code length:  32\n",
      "Compression Ratio:  3.125  \n",
      "Relative Data Redundancy:  0.6799999999999999\n"
     ]
    }
   ],
   "source": [
    "block_h ,block_w , height,width, code = CAC_encode(img,5,5)[:5]"
   ]
  },
  {
   "cell_type": "code",
   "execution_count": 42,
   "metadata": {},
   "outputs": [],
   "source": [
    "def CAC_reblock(code,block_h,block_w,height,width):\n",
    "    codes = ['0','11','10']\n",
    "    blocks = []\n",
    "    i = 0\n",
    "    while i in range(len(code)) :\n",
    "        if code[i] == codes[0]:\n",
    "            blocks.append(np.zeros((block_h, block_w), dtype=np.uint8))\n",
    "            i=i+1\n",
    "        elif code[i:i+2] == codes[1]:\n",
    "            blocks.append(np.ones((block_h, block_w), dtype=np.uint8) * 255)\n",
    "            i = i+2\n",
    "        elif code[i:i+2] == codes[2]: \n",
    "            i=i+2\n",
    "            arr = np.zeros((block_h, block_w), dtype=np.uint8)\n",
    "            for r in range(0,block_h):\n",
    "                for c in range(0,block_w):\n",
    "                    arr[r][c] = int(code[i])\n",
    "                    i = i+1\n",
    "            blocks.append(arr * 255)\n",
    "    print(blocks)"
   ]
  },
  {
   "cell_type": "code",
   "execution_count": 43,
   "metadata": {},
   "outputs": [],
   "source": [
    "def CAC_decode(code,block_h,block_w,height,width):\n",
    "    img = np.ones((height, width), dtype=np.uint8)\n",
    "    codes = ['0','11','10']\n",
    "    blocks = []\n",
    "    i = 0\n",
    "    x = 0\n",
    "    y = 0\n",
    "    while i in range(len(code)):\n",
    "        if x >= width:\n",
    "            y = y + block_h \n",
    "            x = 0\n",
    "        \n",
    "        if code[i] == codes[0]:\n",
    "            for r in range(0,block_h):\n",
    "                for c in range(0,block_w):\n",
    "                    img[r+y][c+x] = 0\n",
    "            x = x + block_w\n",
    "            i = i+1\n",
    "            \n",
    "        elif code[i:i+2] == codes[1]:\n",
    "            i = i+2\n",
    "            for r in range(0,block_h):\n",
    "                for c in range(0,block_w):\n",
    "                    img[r+y][c+x] = 255\n",
    "            x= x + block_w\n",
    "            \n",
    "        elif code[i:i+2] == codes[2]: \n",
    "            i = i+2\n",
    "            for r in range(0,block_h):\n",
    "                for c in range(0,block_w):\n",
    "                    img[r+y][c+x] = int(code[i]) *255\n",
    "                    i = i+1\n",
    "            x = x + block_w\n",
    "    return img"
   ]
  },
  {
   "cell_type": "code",
   "execution_count": 44,
   "metadata": {},
   "outputs": [
    {
     "name": "stdout",
     "output_type": "stream",
     "text": [
      "[[  0   0   0   0   0 255 255 255 255 255]\n",
      " [  0   0   0   0   0 255 255 255 255 255]\n",
      " [  0   0   0   0   0 255 255 255 255 255]\n",
      " [  0   0   0   0   0 255 255 255 255 255]\n",
      " [  0   0   0   0   0 255 255 255 255 255]\n",
      " [255 255 255 255 255   0   0 255   0   0]\n",
      " [255 255 255 255 255 255 255 255 255 255]\n",
      " [255 255 255 255 255   0   0   0 255   0]\n",
      " [255 255 255 255 255 255 255 255 255 255]\n",
      " [255 255 255 255 255 255 255 255 255 255]]\n"
     ]
    }
   ],
   "source": [
    "decoded_img = CAC_decode(code,block_h,block_w,height,width)\n",
    "print(decoded_img)\n",
    "\n",
    "decoded_img = cv2.cvtColor(decoded_img, cv2.COLOR_GRAY2BGR)\n",
    "cv2.namedWindow('decoded_img', cv2.WINDOW_NORMAL)\n",
    "cv2.resizeWindow('decoded_img', 600, 400)\n",
    "cv2.imshow('decoded_img', decoded_img)\n",
    "cv2.waitKey(0)\n",
    "cv2.destroyAllWindows()"
   ]
  },
  {
   "cell_type": "code",
   "execution_count": 45,
   "metadata": {},
   "outputs": [],
   "source": [
    "#generate random valid block sizes \n",
    "def populate(h,w,n):\n",
    "    pop=[]\n",
    "    while len(pop) < n:\n",
    "        block_h = np.random.randint(1,  h)\n",
    "        block_w = np.random.randint(1,  w)\n",
    "        if h% block_h == 0 and w% block_w == 0:\n",
    "            pop.append([block_h,block_w])\n",
    "    return pop"
   ]
  },
  {
   "cell_type": "code",
   "execution_count": 46,
   "metadata": {},
   "outputs": [],
   "source": [
    "\n",
    "def fitness(img,population):\n",
    "    fitness=[]\n",
    "    for entry in population:\n",
    "        print(entry)\n",
    "        fitness.append(CAC_encode(img,entry[0],entry[1])[5])\n",
    "    \n",
    "    return sorted(zip(population, fitness), key=lambda x: x[1], reverse=True)\n"
   ]
  },
  {
   "cell_type": "code",
   "execution_count": 47,
   "metadata": {},
   "outputs": [],
   "source": [
    "#crossover best n blocks\n",
    "#mutate children\n",
    "#def crossover(p1,p2):   \n",
    "#loop"
   ]
  },
  {
   "cell_type": "code",
   "execution_count": 48,
   "metadata": {},
   "outputs": [
    {
     "name": "stdout",
     "output_type": "stream",
     "text": [
      "[[2, 2], [1, 1], [5, 5], [5, 1], [1, 5]]\n",
      "[2, 2]\n",
      "Image size: 100\n",
      "Code length:  86\n",
      "Compression Ratio:  1.1627906976744187  \n",
      "Relative Data Redundancy:  0.14\n",
      "[1, 1]\n",
      "Image size: 100\n",
      "Code length:  167\n",
      "Compression Ratio:  0.5988023952095808  \n",
      "Relative Data Redundancy:  -0.6700000000000002\n",
      "[5, 5]\n",
      "Image size: 100\n",
      "Code length:  32\n",
      "Compression Ratio:  3.125  \n",
      "Relative Data Redundancy:  0.6799999999999999\n",
      "[5, 1]\n",
      "Image size: 100\n",
      "Code length:  45\n",
      "Compression Ratio:  2.2222222222222223  \n",
      "Relative Data Redundancy:  0.55\n",
      "[1, 5]\n",
      "Image size: 100\n",
      "Code length:  60\n",
      "Compression Ratio:  1.6666666666666667  \n",
      "Relative Data Redundancy:  0.4\n",
      "[([5, 5], 3.125), ([5, 1], 2.2222222222222223), ([1, 5], 1.6666666666666667), ([2, 2], 1.1627906976744187), ([1, 1], 0.5988023952095808)]\n"
     ]
    }
   ],
   "source": [
    "pop = populate(img.shape[0],img.shape[1],5)\n",
    "print(pop)\n",
    "print(fitness(img,pop))"
   ]
  }
 ],
 "metadata": {
  "kernelspec": {
   "display_name": "Python 3",
   "language": "python",
   "name": "python3"
  },
  "language_info": {
   "codemirror_mode": {
    "name": "ipython",
    "version": 3
   },
   "file_extension": ".py",
   "mimetype": "text/x-python",
   "name": "python",
   "nbconvert_exporter": "python",
   "pygments_lexer": "ipython3",
   "version": "3.12.0"
  }
 },
 "nbformat": 4,
 "nbformat_minor": 2
}
