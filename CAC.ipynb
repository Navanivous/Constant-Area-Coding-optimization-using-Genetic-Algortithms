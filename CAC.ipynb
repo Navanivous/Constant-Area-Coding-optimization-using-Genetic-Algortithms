{
 "cells": [
  {
   "cell_type": "code",
   "execution_count": 31,
   "metadata": {},
   "outputs": [
    {
     "name": "stdout",
     "output_type": "stream",
     "text": [
      "[[  0   0   0   0   0 255 255 255 255 255]\n",
      " [  0   0   0   0   0 255 255 255 255 255]\n",
      " [  0   0   0   0   0 255 255 255 255 255]\n",
      " [  0   0   0   0   0 255 255 255 255 255]\n",
      " [  0   0   0   0   0 255 255 255 255 255]\n",
      " [255 255 255 255 255   0   0   0   0   0]\n",
      " [255 255 255 255 255 255 255 255 255 255]\n",
      " [255 255 255 255 255 255 255 255 255 255]\n",
      " [255 255 255 255 255 255 255 255 255 255]\n",
      " [255 255 255 255 255 255 255 255 255 255]]\n",
      "(10, 10)\n"
     ]
    }
   ],
   "source": [
    "\n",
    "import cv2\n",
    "import numpy as np\n",
    "from matplotlib import pyplot as plt\n",
    "\n",
    "imgo = cv2.imread(\"NewImage-1.png\", cv2.IMREAD_GRAYSCALE)\n",
    "img = cv2.threshold(imgo,128,255,cv2.THRESH_BINARY)[1]\n",
    "print(img)\n",
    "print(img.shape)\n",
    "cv2.namedWindow('img', cv2.WINDOW_NORMAL)\n",
    "cv2.resizeWindow('img', 600, 400)\n",
    "cv2.imshow('img', img)\n",
    "cv2.waitKey(0)\n",
    "cv2.destroyAllWindows()"
   ]
  },
  {
   "cell_type": "code",
   "execution_count": 32,
   "metadata": {},
   "outputs": [],
   "source": [
    "def split_img(img,block_h,block_w):\n",
    "    blocks = []\n",
    "    h , w = img.shape[:2]\n",
    "    if h%block_h!=0:\n",
    "        print(\"invalid block height\")\n",
    "        return\n",
    "    if w%block_w!=0:\n",
    "        print(\"invalid block width\")\n",
    "        return\n",
    "    num_rows = w//block_w\n",
    "    num_cols = h//block_h\n",
    "    for y in range(num_cols):\n",
    "        for x in range(num_rows):\n",
    "                left = x * block_w\n",
    "                upper = y * block_h\n",
    "                right = left + block_w\n",
    "                lower = upper + block_h\n",
    "                block = img[upper:lower, left:right]\n",
    "                blocks.append(block)\n",
    "    return blocks"
   ]
  },
  {
   "cell_type": "code",
   "execution_count": 33,
   "metadata": {},
   "outputs": [],
   "source": [
    "def CAC_encode(img,block_h,block_w):    \n",
    "    blocks = split_img(img, block_w, block_h)\n",
    "    print(blocks)\n",
    "    print(\"Image size:\",img.size)\n",
    "    codes = ['0','11','10']\n",
    "    code = []\n",
    "    for block in blocks:\n",
    "        if np.all(block == 0):\n",
    "            code.append(codes[0])\n",
    "        elif np.all(block == 255):\n",
    "            code.append(codes[1])\n",
    "        else:\n",
    "            code.append(codes[2])\n",
    "            block = block.tolist()\n",
    "            for blk in block:\n",
    "                for b in blk:\n",
    "                    if b == 255:\n",
    "                        code.append(1)   \n",
    "                    else:\n",
    "                        code.append(b)\n",
    "    code =\"\".join(map(str,code))\n",
    "    print(\"Code length: \", len(code))\n",
    "    \n",
    "    CR = img.size/len(code)\n",
    "    RD = 1 - 1/CR\n",
    "    print(\"Compression Ratio: \" , CR , \" \\nRelative Data Redundancy: \", RD) \n",
    "    return  block_h ,block_w , img.shape[:2], CR , RD , code"
   ]
  },
  {
   "cell_type": "code",
   "execution_count": 34,
   "metadata": {},
   "outputs": [
    {
     "name": "stdout",
     "output_type": "stream",
     "text": [
      "[array([[0, 0, 0, 0, 0],\n",
      "       [0, 0, 0, 0, 0],\n",
      "       [0, 0, 0, 0, 0],\n",
      "       [0, 0, 0, 0, 0],\n",
      "       [0, 0, 0, 0, 0]], dtype=uint8), array([[255, 255, 255, 255, 255],\n",
      "       [255, 255, 255, 255, 255],\n",
      "       [255, 255, 255, 255, 255],\n",
      "       [255, 255, 255, 255, 255],\n",
      "       [255, 255, 255, 255, 255]], dtype=uint8), array([[255, 255, 255, 255, 255],\n",
      "       [255, 255, 255, 255, 255],\n",
      "       [255, 255, 255, 255, 255],\n",
      "       [255, 255, 255, 255, 255],\n",
      "       [255, 255, 255, 255, 255]], dtype=uint8), array([[  0,   0,   0,   0,   0],\n",
      "       [255, 255, 255, 255, 255],\n",
      "       [255, 255, 255, 255, 255],\n",
      "       [255, 255, 255, 255, 255],\n",
      "       [255, 255, 255, 255, 255]], dtype=uint8)]\n",
      "Image size: 100\n",
      "Code length:  32\n",
      "Compression Ratio:  3.125  \n",
      "Relative Data Redundancy:  0.6799999999999999\n"
     ]
    },
    {
     "data": {
      "text/plain": [
       "(5, 5, (10, 10), 3.125, 0.6799999999999999, '01111100000011111111111111111111')"
      ]
     },
     "execution_count": 34,
     "metadata": {},
     "output_type": "execute_result"
    }
   ],
   "source": [
    "CAC_encode(img,5,5)"
   ]
  },
  {
   "cell_type": "code",
   "execution_count": 35,
   "metadata": {},
   "outputs": [],
   "source": [
    "def CAC_reblock(code,block_h,block_w,height,width):\n",
    "    codes = ['0','11','10']\n",
    "    blocks = []\n",
    "    i = 0\n",
    "    while i in range(len(code)) :\n",
    "        if code[i] == codes[0]:\n",
    "            blocks.append(np.zeros((block_h, block_w), dtype=np.uint8))\n",
    "            i=i+1\n",
    "        elif code[i:i+2] == codes[1]:\n",
    "            blocks.append(np.ones((block_h, block_w), dtype=np.uint8) * 255)\n",
    "            i = i+2\n",
    "        elif code[i:i+2] == codes[2]: \n",
    "            i=i+2\n",
    "            arr = np.zeros((block_h, block_w), dtype=np.uint8)\n",
    "            for r in range(0,block_h):\n",
    "                for c in range(0,block_w):\n",
    "                    arr[r][c] = int(code[i])\n",
    "                    i = i+1\n",
    "            blocks.append(arr * 255)\n",
    "    print(blocks)"
   ]
  },
  {
   "cell_type": "code",
   "execution_count": 36,
   "metadata": {},
   "outputs": [],
   "source": [
    "def CAC_decode(code,block_h,block_w,height,width):\n",
    "    img = np.ones((height, width), dtype=np.uint8)\n",
    "    codes = ['0','11','10']\n",
    "    blocks = []\n",
    "    i = 0\n",
    "    x = 0\n",
    "    y = 0\n",
    "    while i in range(len(code)):\n",
    "        if x >= width:\n",
    "            y = y + block_h \n",
    "            x = 0\n",
    "        \n",
    "        if code[i] == codes[0]:\n",
    "            for r in range(0,block_h):\n",
    "                for c in range(0,block_w):\n",
    "                    img[r+y][c+x] = 0\n",
    "            x = x + block_w\n",
    "            i = i+1\n",
    "            \n",
    "        elif code[i:i+2] == codes[1]:\n",
    "            i = i+2\n",
    "            for r in range(0,block_h):\n",
    "                for c in range(0,block_w):\n",
    "                    img[r+y][c+x] = 255\n",
    "            x= x + block_w\n",
    "            \n",
    "        elif code[i:i+2] == codes[2]: \n",
    "            i = i+2\n",
    "            for r in range(0,block_h):\n",
    "                for c in range(0,block_w):\n",
    "                    img[r+y][c+x] = int(code[i]) *255\n",
    "                    i = i+1\n",
    "            x = x + block_w\n",
    "    return img"
   ]
  },
  {
   "cell_type": "code",
   "execution_count": 37,
   "metadata": {},
   "outputs": [
    {
     "name": "stdout",
     "output_type": "stream",
     "text": [
      "[[  0   0   0   0   0 255 255 255 255 255]\n",
      " [  0   0   0   0   0 255 255 255 255 255]\n",
      " [  0   0   0   0   0 255 255 255 255 255]\n",
      " [  0   0   0   0   0 255 255 255 255 255]\n",
      " [  0   0   0   0   0 255 255 255 255 255]\n",
      " [255 255 255 255 255   0   0   0   0   0]\n",
      " [255 255 255 255 255 255 255 255 255 255]\n",
      " [255 255 255 255 255 255 255 255 255 255]\n",
      " [255 255 255 255 255 255 255 255 255 255]\n",
      " [255 255 255 255 255 255 255 255 255 255]]\n"
     ]
    }
   ],
   "source": [
    "code = str('01111100000011111111111111111111')\n",
    "block_h = 5\n",
    "block_w = 5\n",
    "height = 10\n",
    "width = 10\n",
    "\n",
    "img = CAC_decode(code,block_h,block_w,height,width)\n",
    "print(img)\n",
    "\n",
    "img = cv2.cvtColor(img, cv2.COLOR_GRAY2BGR)\n",
    "cv2.namedWindow('img', cv2.WINDOW_NORMAL)\n",
    "cv2.resizeWindow('img', 600, 400)\n",
    "cv2.imshow('img', img)\n",
    "cv2.waitKey(0)\n",
    "cv2.destroyAllWindows()"
   ]
  }
 ],
 "metadata": {
  "kernelspec": {
   "display_name": "Python 3",
   "language": "python",
   "name": "python3"
  },
  "language_info": {
   "codemirror_mode": {
    "name": "ipython",
    "version": 3
   },
   "file_extension": ".py",
   "mimetype": "text/x-python",
   "name": "python",
   "nbconvert_exporter": "python",
   "pygments_lexer": "ipython3",
   "version": "3.12.0"
  }
 },
 "nbformat": 4,
 "nbformat_minor": 2
}
