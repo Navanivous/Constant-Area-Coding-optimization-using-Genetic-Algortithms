{
 "cells": [
  {
   "cell_type": "code",
   "execution_count": 265,
   "metadata": {},
   "outputs": [
    {
     "name": "stdout",
     "output_type": "stream",
     "text": [
      "[[  0   0   0   0   0 255 255 255 255 255]\n",
      " [  0   0   0   0   0 255 255 255 255 255]\n",
      " [  0   0   0   0   0 255 255 255 255 255]\n",
      " [  0   0   0   0   0 255 255 255 255 255]\n",
      " [  0   0   0   0   0 255 255 255 255 255]\n",
      " [255 255 255 255 255   0   0 255   0   0]\n",
      " [255 255 255 255 255 255 255 255 255 255]\n",
      " [255 255 255 255 255   0   0   0 255   0]\n",
      " [255 255 255 255 255 255 255 255 255 255]\n",
      " [255 255 255 255 255 255 255 255 255 255]]\n",
      "(10, 10)\n"
     ]
    }
   ],
   "source": [
    "\n",
    "import cv2\n",
    "import numpy as np\n",
    "from matplotlib import pyplot as plt\n",
    "\n",
    "imgo = cv2.imread(\"NewImage-1.png\", cv2.IMREAD_GRAYSCALE)\n",
    "img = cv2.threshold(imgo,128,255,cv2.THRESH_BINARY)[1]\n",
    "print(img)\n",
    "print(img.shape)\n",
    "cv2.namedWindow('img', cv2.WINDOW_NORMAL)\n",
    "cv2.resizeWindow('img', 600, 400)\n",
    "cv2.imshow('img', img)\n",
    "cv2.waitKey(0)\n",
    "cv2.destroyAllWindows()"
   ]
  },
  {
   "cell_type": "code",
   "execution_count": 266,
   "metadata": {},
   "outputs": [],
   "source": [
    "def split_img(img,block_h,block_w):\n",
    "    blocks = []\n",
    "    h , w = img.shape[:2]\n",
    "    if h%block_h!=0:\n",
    "        print(\"invalid block height\")\n",
    "        return \n",
    "    if w%block_w!=0:\n",
    "        print(\"invalid block width\")\n",
    "        return\n",
    "    num_rows = w//block_w\n",
    "    num_cols = h//block_h\n",
    "    for y in range(num_cols):\n",
    "        for x in range(num_rows):\n",
    "                left = x * block_w\n",
    "                upper = y * block_h\n",
    "                right = left + block_w\n",
    "                lower = upper + block_h\n",
    "                block = img[upper:lower, left:right]\n",
    "                blocks.append(block)\n",
    "    return blocks"
   ]
  },
  {
   "cell_type": "code",
   "execution_count": 267,
   "metadata": {},
   "outputs": [],
   "source": [
    "def CAC_encode(img,block_h,block_w):    \n",
    "    blocks = split_img(img, block_w, block_h)\n",
    "    codes = ['0','11','10']\n",
    "    code = []\n",
    "    for block in blocks:\n",
    "        if np.all(block == 0):\n",
    "            code.append(codes[0])\n",
    "        elif np.all(block == 255):\n",
    "            code.append(codes[1])\n",
    "        else:\n",
    "            code.append(codes[2])\n",
    "            block = block.tolist()\n",
    "            for blk in block:\n",
    "                for b in blk:\n",
    "                    if b == 255:\n",
    "                        code.append(1)   \n",
    "                    else:\n",
    "                        code.append(b)\n",
    "    code =\"\".join(map(str,code))\n",
    "   # print(\"Code length: \", len(code))\n",
    "    \n",
    "    CR = img.size/len(code)\n",
    "    RD = 1 - 1/CR\n",
    "   # print(\"Compression Ratio: \" , CR , \" \\nRelative Data Redundancy: \", RD) \n",
    "    return  block_h ,block_w , img.shape[0], img.shape[1],  code , CR , RD"
   ]
  },
  {
   "cell_type": "code",
   "execution_count": 268,
   "metadata": {},
   "outputs": [],
   "source": [
    "block_h ,block_w , height,width, code = CAC_encode(img,5,5)[:5]"
   ]
  },
  {
   "cell_type": "code",
   "execution_count": 269,
   "metadata": {},
   "outputs": [],
   "source": [
    "def CAC_reblock(code,block_h,block_w,height,width):\n",
    "    codes = ['0','11','10']\n",
    "    blocks = []\n",
    "    i = 0\n",
    "    while i in range(len(code)) :\n",
    "        if code[i] == codes[0]:\n",
    "            blocks.append(np.zeros((block_h, block_w), dtype=np.uint8))\n",
    "            i=i+1\n",
    "        elif code[i:i+2] == codes[1]:\n",
    "            blocks.append(np.ones((block_h, block_w), dtype=np.uint8) * 255)\n",
    "            i = i+2\n",
    "        elif code[i:i+2] == codes[2]: \n",
    "            i=i+2\n",
    "            arr = np.zeros((block_h, block_w), dtype=np.uint8)\n",
    "            for r in range(0,block_h):\n",
    "                for c in range(0,block_w):\n",
    "                    arr[r][c] = int(code[i])\n",
    "                    i = i+1\n",
    "            blocks.append(arr * 255)\n",
    "    print(blocks)"
   ]
  },
  {
   "cell_type": "code",
   "execution_count": 270,
   "metadata": {},
   "outputs": [],
   "source": [
    "def CAC_decode(code,block_h,block_w,height,width):\n",
    "    img = np.ones((height, width), dtype=np.uint8)\n",
    "    codes = ['0','11','10']\n",
    "    blocks = []\n",
    "    i = 0\n",
    "    x = 0\n",
    "    y = 0\n",
    "    while i in range(len(code)):\n",
    "        if x >= width:\n",
    "            y = y + block_h \n",
    "            x = 0\n",
    "        \n",
    "        if code[i] == codes[0]:\n",
    "            for r in range(0,block_h):\n",
    "                for c in range(0,block_w):\n",
    "                    img[r+y][c+x] = 0\n",
    "            x = x + block_w\n",
    "            i = i+1\n",
    "            \n",
    "        elif code[i:i+2] == codes[1]:\n",
    "            i = i+2\n",
    "            for r in range(0,block_h):\n",
    "                for c in range(0,block_w):\n",
    "                    img[r+y][c+x] = 255\n",
    "            x= x + block_w\n",
    "            \n",
    "        elif code[i:i+2] == codes[2]: \n",
    "            i = i+2\n",
    "            for r in range(0,block_h):\n",
    "                for c in range(0,block_w):\n",
    "                    img[r+y][c+x] = int(code[i]) *255\n",
    "                    i = i+1\n",
    "            x = x + block_w\n",
    "    return img"
   ]
  },
  {
   "cell_type": "code",
   "execution_count": 271,
   "metadata": {},
   "outputs": [
    {
     "name": "stdout",
     "output_type": "stream",
     "text": [
      "[[  0   0   0   0   0 255 255 255 255 255]\n",
      " [  0   0   0   0   0 255 255 255 255 255]\n",
      " [  0   0   0   0   0 255 255 255 255 255]\n",
      " [  0   0   0   0   0 255 255 255 255 255]\n",
      " [  0   0   0   0   0 255 255 255 255 255]\n",
      " [255 255 255 255 255   0   0 255   0   0]\n",
      " [255 255 255 255 255 255 255 255 255 255]\n",
      " [255 255 255 255 255   0   0   0 255   0]\n",
      " [255 255 255 255 255 255 255 255 255 255]\n",
      " [255 255 255 255 255 255 255 255 255 255]]\n"
     ]
    }
   ],
   "source": [
    "decoded_img = CAC_decode(code,block_h,block_w,height,width)\n",
    "print(decoded_img)\n",
    "\n",
    "decoded_img = cv2.cvtColor(decoded_img, cv2.COLOR_GRAY2BGR)\n",
    "cv2.namedWindow('decoded_img', cv2.WINDOW_NORMAL)\n",
    "cv2.resizeWindow('decoded_img', 600, 400)\n",
    "cv2.imshow('decoded_img', decoded_img)\n",
    "cv2.waitKey(0)\n",
    "cv2.destroyAllWindows()"
   ]
  },
  {
   "cell_type": "code",
   "execution_count": 272,
   "metadata": {},
   "outputs": [],
   "source": [
    "#generate random valid block sizes \n",
    "def populate(h,w,n):\n",
    "    pop=[]\n",
    "    while len(pop) < n:\n",
    "        block_h = np.random.randint(1,  h)\n",
    "        block_w = np.random.randint(1,  w)\n",
    "        if h% block_h == 0 and w% block_w == 0:\n",
    "            pop.append([block_h,block_w])\n",
    "    return pop"
   ]
  },
  {
   "cell_type": "code",
   "execution_count": 273,
   "metadata": {},
   "outputs": [],
   "source": [
    "\n",
    "def fitness(img,population):\n",
    "    fitness=[]\n",
    "    for entry in population:\n",
    "        if entry[0] == 0 or entry[1] == 0:\n",
    "            fitness.append(-1)\n",
    "        elif img.shape[0] % entry[0] == 0 and img.shape[1] % entry[1] == 0:\n",
    "            fitness.append(CAC_encode(img,entry[0],entry[1])[5])\n",
    "        else:\n",
    "            fitness.append(-1)\n",
    "    \n",
    "    pop , fit = zip(*sorted(zip(population, fitness), key=lambda x: x[1], reverse=True))\n",
    "    return list(pop),list(fit)\n"
   ]
  },
  {
   "cell_type": "code",
   "execution_count": 274,
   "metadata": {},
   "outputs": [],
   "source": [
    "def binarize(p_bits,q_bits,n):\n",
    "    n1 = n[0]\n",
    "    n2 = n[1]\n",
    "\n",
    "    b1 = (bin(n1)[2:])\n",
    "    p_zeros = p_bits -len(b1)\n",
    "    p = '0' * p_zeros + b1\n",
    "    b2 = (bin(n2)[2:])\n",
    "    q_zeros = q_bits -len(b2)\n",
    "    q = '0' * q_zeros + b2\n",
    "    return p + q \n",
    "\n",
    "def decimate(p_bits,q_bits,b):\n",
    "    n1 = str(b[:p_bits])\n",
    "    n2 = str(b[p_bits:])\n",
    "    p = int(n1,2)\n",
    "    q = int(n2,2)\n",
    "    return [p,q]    "
   ]
  },
  {
   "cell_type": "code",
   "execution_count": 275,
   "metadata": {},
   "outputs": [],
   "source": [
    "def crossover(p1,p2):\n",
    "    cp = np.random.randint(0,len(p1))\n",
    "    child_1 = p1[:cp] + p2[cp:]\n",
    "    child_2 = p2[:cp] + p1[cp:]\n",
    "    return [child_1 , child_2]"
   ]
  },
  {
   "cell_type": "code",
   "execution_count": 276,
   "metadata": {},
   "outputs": [
    {
     "data": {
      "text/plain": [
       "'00101101'"
      ]
     },
     "execution_count": 276,
     "metadata": {},
     "output_type": "execute_result"
    }
   ],
   "source": [
    "def mutate(chromosome,chance):\n",
    "    if np.random.random() <= chance:\n",
    "        mp = np.random.randint(0,len(chromosome))\n",
    "        chromosome = str(chromosome[:mp]) + str(1-int(chromosome[mp])) + str(chromosome[mp+1:])\n",
    "    return chromosome\n",
    "mutate('00101111',0.99)"
   ]
  },
  {
   "cell_type": "code",
   "execution_count": 328,
   "metadata": {},
   "outputs": [
    {
     "name": "stdout",
     "output_type": "stream",
     "text": [
      "Best size : 5 * 5\n",
      "Best CR: 3.125\n"
     ]
    }
   ],
   "source": [
    "def Genetic(img,sample_size,chance):\n",
    "    height=img.shape[0]\n",
    "    width=img.shape[1]\n",
    "    p_bits = len(bin(height)[2:]) \n",
    "    q_bits = len(bin(width)[2:])\n",
    "    population = populate(height,width,sample_size)\n",
    "    fits = []\n",
    "    population , fits = fitness(img,population)\n",
    "    best_fit = 0\n",
    "    best_size = None\n",
    "    while best_fit != fits[0]:\n",
    "        for i in range(0,int(sample_size/2),2):\n",
    "            children = crossover(binarize(p_bits,q_bits,population[i]),binarize(p_bits,q_bits,population[i+1]))\n",
    "            population.append(decimate(p_bits,q_bits,mutate(children[0],chance)))\n",
    "            population.append(decimate(p_bits,q_bits,mutate(children[1],chance)))\n",
    "        population, fits = fitness(img,population)\n",
    "        population = population[:sample_size]\n",
    "        fits = fits[:sample_size]\n",
    "        if fits[0]>best_fit:\n",
    "            best_fit = fits[0]\n",
    "            best_size = population[0]\n",
    "    print(f'Best size : {best_size[0]} * {best_size[1]}') \n",
    "    print(f'Best CR: {best_fit}')\n",
    "Genetic(img,8,0.4)"
   ]
  },
  {
   "cell_type": "code",
   "execution_count": 278,
   "metadata": {},
   "outputs": [
    {
     "name": "stdout",
     "output_type": "stream",
     "text": [
      "[[1, 2], [1, 1], [5, 5], [1, 1], [1, 2]]\n",
      "[[5, 5], [1, 2], [1, 2], [1, 1], [1, 1]]\n"
     ]
    }
   ],
   "source": [
    "pop = populate(img.shape[0],img.shape[1],5)\n",
    "print(pop)\n",
    "print(fitness(img,pop)[0])"
   ]
  }
 ],
 "metadata": {
  "kernelspec": {
   "display_name": "Python 3",
   "language": "python",
   "name": "python3"
  },
  "language_info": {
   "codemirror_mode": {
    "name": "ipython",
    "version": 3
   },
   "file_extension": ".py",
   "mimetype": "text/x-python",
   "name": "python",
   "nbconvert_exporter": "python",
   "pygments_lexer": "ipython3",
   "version": "3.12.0"
  }
 },
 "nbformat": 4,
 "nbformat_minor": 2
}
